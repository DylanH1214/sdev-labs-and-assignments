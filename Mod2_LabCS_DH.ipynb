{
 "cells": [
  {
   "cell_type": "code",
   "execution_count": 4,
   "id": "666fc5d8-93c6-4057-a0e2-7e60a984562c",
   "metadata": {},
   "outputs": [
    {
     "name": "stdin",
     "output_type": "stream",
     "text": [
      "Enter student's last name (or 'ZZZ' to quit):  Smith\n",
      "Enter student's first name:  Bob\n",
      "Enter student's GPA:  3.5\n"
     ]
    },
    {
     "name": "stdout",
     "output_type": "stream",
     "text": [
      "Bob Smith has made the Dean's List!\n",
      "\n"
     ]
    },
    {
     "name": "stdin",
     "output_type": "stream",
     "text": [
      "Enter student's last name (or 'ZZZ' to quit):  Doe\n",
      "Enter student's first name:  Jane\n",
      "Enter student's GPA:  3.25\n"
     ]
    },
    {
     "name": "stdout",
     "output_type": "stream",
     "text": [
      "Jane Doe has made the Honor Roll.\n",
      "\n"
     ]
    },
    {
     "name": "stdin",
     "output_type": "stream",
     "text": [
      "Enter student's last name (or 'ZZZ' to quit):  Jackman\n",
      "Enter student's first name:  Hugh\n",
      "Enter student's GPA:  1.8\n"
     ]
    },
    {
     "name": "stdout",
     "output_type": "stream",
     "text": [
      "Hugh Jackman has not made the Dean's List or Honor Roll.\n",
      "\n"
     ]
    },
    {
     "name": "stdin",
     "output_type": "stream",
     "text": [
      "Enter student's last name (or 'ZZZ' to quit):  Joel\n",
      "Enter student's first name:  Billy\n",
      "Enter student's GPA:  4.0\n"
     ]
    },
    {
     "name": "stdout",
     "output_type": "stream",
     "text": [
      "Billy Joel has made the Dean's List!\n",
      "\n"
     ]
    },
    {
     "name": "stdin",
     "output_type": "stream",
     "text": [
      "Enter student's last name (or 'ZZZ' to quit):  Holland\n",
      "Enter student's first name:  Tom\n",
      "Enter student's GPA:  3.0\n"
     ]
    },
    {
     "name": "stdout",
     "output_type": "stream",
     "text": [
      "Tom Holland has not made the Dean's List or Honor Roll.\n",
      "\n"
     ]
    },
    {
     "name": "stdin",
     "output_type": "stream",
     "text": [
      "Enter student's last name (or 'ZZZ' to quit):  ZZZ\n"
     ]
    },
    {
     "name": "stdout",
     "output_type": "stream",
     "text": [
      "Exiting program...\n"
     ]
    }
   ],
   "source": [
    "# Dylan Hart\n",
    "# Mod2_Lab_DH \n",
    "# This application will take the name and GPA of the user and let them know if they were on the Honor Roll or Dean's List!\n",
    "\n",
    "while True:\n",
    "        # Last Name\n",
    "        last_name = input(\"Enter student's last name (or 'ZZZ' to quit): \")\n",
    "        \n",
    "        if last_name.upper() == \"ZZZ\":\n",
    "            print(\"Exiting program...\")\n",
    "            break\n",
    "        \n",
    "        # First Name\n",
    "        first_name = input(\"Enter student's first name: \")\n",
    "        \n",
    "        # GPA\n",
    "        gpa = float(input(\"Enter student's GPA: \"))\n",
    "        \n",
    "        # Dean's List, Honor Roll or Neither?\n",
    "        if gpa >= 3.5:\n",
    "            print(first_name + \" \" + last_name + \" has made the Dean's List!\")\n",
    "        elif gpa >= 3.25:\n",
    "            print(first_name + \" \" + last_name + \" has made the Honor Roll.\")\n",
    "        else:\n",
    "            print(first_name + \" \" + last_name + \" has not made the Dean's List or Honor Roll.\")\n",
    "        print()"
   ]
  },
  {
   "cell_type": "code",
   "execution_count": null,
   "id": "72bdf909-edda-4f85-ba88-54a36092c5a8",
   "metadata": {},
   "outputs": [],
   "source": []
  }
 ],
 "metadata": {
  "kernelspec": {
   "display_name": "anaconda-2024.02-py310",
   "language": "python",
   "name": "conda-env-anaconda-2024.02-py310-py"
  },
  "language_info": {
   "codemirror_mode": {
    "name": "ipython",
    "version": 3
   },
   "file_extension": ".py",
   "mimetype": "text/x-python",
   "name": "python",
   "nbconvert_exporter": "python",
   "pygments_lexer": "ipython3",
   "version": "3.10.14"
  }
 },
 "nbformat": 4,
 "nbformat_minor": 5
}
