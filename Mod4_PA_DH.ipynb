{
 "cells": [
  {
   "cell_type": "code",
   "execution_count": 11,
   "id": "1a57f4b5-d803-4f5b-bbf3-b1cd3178a849",
   "metadata": {},
   "outputs": [
    {
     "name": "stdout",
     "output_type": "stream",
     "text": [
      "Open 9-5 daily\n"
     ]
    }
   ],
   "source": [
    "# 11.1 Create a file called zoo.py. In it, define a function called hours() that prints the string 'Open 9-5 daily'. \n",
    "# Then, use the interactive interpreter to import the zoo module and call its hours() function.\n",
    "\n",
    "import zoo\n",
    "zoo.hours()"
   ]
  },
  {
   "cell_type": "code",
   "execution_count": 10,
   "id": "9a5f1d8a-664e-4b93-86fd-ee1158064861",
   "metadata": {},
   "outputs": [
    {
     "name": "stdout",
     "output_type": "stream",
     "text": [
      "Open 9-5 daily\n"
     ]
    }
   ],
   "source": [
    "# 11.2 In the interactive interpreter, import the zoo module as menagerie and call its hours() function.\n",
    "\n",
    "import zoo as menagerie\n",
    "menagerie.hours()"
   ]
  },
  {
   "cell_type": "code",
   "execution_count": 10,
   "id": "7ad1cedd-9beb-4919-82b5-92097fc556ef",
   "metadata": {},
   "outputs": [
    {
     "name": "stdout",
     "output_type": "stream",
     "text": [
      "('Perdido Street Station',)\n",
      "('Small Gods',)\n",
      "('The Spellman Files',)\n",
      "('The Weirdstone of Brisingamen',)\n",
      "('Thud!',)\n"
     ]
    }
   ],
   "source": [
    "# 16.8 Use the sqlalchemy module to connect to the sqlite3 database books.db that you just made in exercise 16.4. \n",
    "# As in 16.6, select and print the title column from the book table in alphabetical order.\n",
    "\n",
    "import sqlalchemy\n",
    "from sqlalchemy import text\n",
    "\n",
    "# Create engine to connect to the database\n",
    "engine = sqlalchemy.create_engine('sqlite:///books.db')\n",
    "\n",
    "# Create a connection\n",
    "with engine.connect() as conn:\n",
    "    # Execute SQL query using text() to create a SQL expression\n",
    "    sql = text('select title from book order by title asc')\n",
    "    rows = conn.execute(sql)\n",
    "    \n",
    "    # Print results\n",
    "    for row in rows:\n",
    "        print(row)"
   ]
  }
 ],
 "metadata": {
  "kernelspec": {
   "display_name": "anaconda-2024.02-py310",
   "language": "python",
   "name": "conda-env-anaconda-2024.02-py310-py"
  },
  "language_info": {
   "codemirror_mode": {
    "name": "ipython",
    "version": 3
   },
   "file_extension": ".py",
   "mimetype": "text/x-python",
   "name": "python",
   "nbconvert_exporter": "python",
   "pygments_lexer": "ipython3",
   "version": "3.10.14"
  }
 },
 "nbformat": 4,
 "nbformat_minor": 5
}
