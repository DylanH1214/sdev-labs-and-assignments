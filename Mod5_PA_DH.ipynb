{
 "cells": [
  {
   "cell_type": "code",
   "execution_count": 69,
   "id": "0031c25b-0228-41db-9f6a-18f13fb9d522",
   "metadata": {},
   "outputs": [],
   "source": [
    "assert sum([1, 2, 3]) == 6, \"Should be 6\""
   ]
  },
  {
   "cell_type": "code",
   "execution_count": 70,
   "id": "ae94e6a5-861f-4746-a54c-d514740f484d",
   "metadata": {},
   "outputs": [
    {
     "ename": "AssertionError",
     "evalue": "Should be 6",
     "output_type": "error",
     "traceback": [
      "\u001b[0;31m---------------------------------------------------------------------------\u001b[0m",
      "\u001b[0;31mAssertionError\u001b[0m                            Traceback (most recent call last)",
      "Cell \u001b[0;32mIn[70], line 1\u001b[0m\n\u001b[0;32m----> 1\u001b[0m \u001b[38;5;28;01massert\u001b[39;00m \u001b[38;5;28msum\u001b[39m([\u001b[38;5;241m1\u001b[39m, \u001b[38;5;241m1\u001b[39m, \u001b[38;5;241m1\u001b[39m]) \u001b[38;5;241m==\u001b[39m \u001b[38;5;241m6\u001b[39m, \u001b[38;5;124m\"\u001b[39m\u001b[38;5;124mShould be 6\u001b[39m\u001b[38;5;124m\"\u001b[39m\n",
      "\u001b[0;31mAssertionError\u001b[0m: Should be 6"
     ]
    }
   ],
   "source": [
    "assert sum([1, 1, 1]) == 6, \"Should be 6\""
   ]
  },
  {
   "cell_type": "code",
   "execution_count": 71,
   "id": "18a52077-743a-4aba-bba8-39f574fa46ad",
   "metadata": {},
   "outputs": [
    {
     "name": "stdout",
     "output_type": "stream",
     "text": [
      "Overwriting test_sum.py\n"
     ]
    }
   ],
   "source": [
    "%%writefile test_sum.py\n",
    "\n",
    "def test_sum():\n",
    "    assert sum([1, 2, 3]) == 6, \"Should be 6\"\n",
    "\n",
    "if __name__ == \"__main__\":\n",
    "    test_sum()\n",
    "    print(\"Everything passed\")"
   ]
  },
  {
   "cell_type": "code",
   "execution_count": 72,
   "id": "731401a2-6ce0-4213-87d1-87c52b817e5b",
   "metadata": {},
   "outputs": [
    {
     "name": "stdout",
     "output_type": "stream",
     "text": [
      "Everything passed\n"
     ]
    }
   ],
   "source": [
    "import test_sum\n",
    "\n",
    "%run test_sum.py"
   ]
  },
  {
   "cell_type": "code",
   "execution_count": 73,
   "id": "6d1fdd9c-392c-4d45-8f78-2a38e45354ae",
   "metadata": {},
   "outputs": [
    {
     "name": "stdout",
     "output_type": "stream",
     "text": [
      "Overwriting test_sum_2.py\n"
     ]
    }
   ],
   "source": [
    "%%writefile test_sum_2.py\n",
    "\n",
    "def test_sum():\n",
    "    assert sum([1, 2, 3]) == 6, \"Should be 6\"\n",
    "\n",
    "def test_sum_tuple():\n",
    "    assert sum((1, 2, 2)) == 6, \"Should be 6\"\n",
    "\n",
    "if __name__ == \"__main__\":\n",
    "    test_sum()\n",
    "    test_sum_tuple()\n",
    "    print(\"Everything passed\")"
   ]
  },
  {
   "cell_type": "code",
   "execution_count": 74,
   "id": "5a1d0061-f383-48e9-845d-8a5e49fdfa87",
   "metadata": {},
   "outputs": [
    {
     "ename": "AssertionError",
     "evalue": "Should be 6",
     "output_type": "error",
     "traceback": [
      "\u001b[0;31m---------------------------------------------------------------------------\u001b[0m",
      "\u001b[0;31mAssertionError\u001b[0m                            Traceback (most recent call last)",
      "File \u001b[0;32m~/test_sum_2.py:10\u001b[0m\n\u001b[1;32m      8\u001b[0m \u001b[38;5;28;01mif\u001b[39;00m \u001b[38;5;18m__name__\u001b[39m \u001b[38;5;241m==\u001b[39m \u001b[38;5;124m\"\u001b[39m\u001b[38;5;124m__main__\u001b[39m\u001b[38;5;124m\"\u001b[39m:\n\u001b[1;32m      9\u001b[0m     test_sum()\n\u001b[0;32m---> 10\u001b[0m     \u001b[43mtest_sum_tuple\u001b[49m\u001b[43m(\u001b[49m\u001b[43m)\u001b[49m\n\u001b[1;32m     11\u001b[0m     \u001b[38;5;28mprint\u001b[39m(\u001b[38;5;124m\"\u001b[39m\u001b[38;5;124mEverything passed\u001b[39m\u001b[38;5;124m\"\u001b[39m)\n",
      "File \u001b[0;32m~/test_sum_2.py:6\u001b[0m, in \u001b[0;36mtest_sum_tuple\u001b[0;34m()\u001b[0m\n\u001b[1;32m      5\u001b[0m \u001b[38;5;28;01mdef\u001b[39;00m \u001b[38;5;21mtest_sum_tuple\u001b[39m():\n\u001b[0;32m----> 6\u001b[0m     \u001b[38;5;28;01massert\u001b[39;00m \u001b[38;5;28msum\u001b[39m((\u001b[38;5;241m1\u001b[39m, \u001b[38;5;241m2\u001b[39m, \u001b[38;5;241m2\u001b[39m)) \u001b[38;5;241m==\u001b[39m \u001b[38;5;241m6\u001b[39m, \u001b[38;5;124m\"\u001b[39m\u001b[38;5;124mShould be 6\u001b[39m\u001b[38;5;124m\"\u001b[39m\n",
      "\u001b[0;31mAssertionError\u001b[0m: Should be 6"
     ]
    }
   ],
   "source": [
    "import test_sum_2\n",
    "\n",
    "%run test_sum_2.py"
   ]
  },
  {
   "cell_type": "code",
   "execution_count": 75,
   "id": "ffd0547f-545b-42a9-9770-ed6e468ee6f5",
   "metadata": {},
   "outputs": [],
   "source": [
    "# pasted this into VSCode\n",
    "\n",
    "#import unittest\n",
    "\n",
    "\n",
    "#class TestSum(unittest.TestCase):\n",
    "\n",
    "    #def test_sum(self):\n",
    "       #self.assertEqual(sum([1, 2, 3]), 6, \"Should be 6\")\n",
    "\n",
    "    #def test_sum_tuple(self):\n",
    "       #self.assertEqual(sum((1, 2, 2)), 6, \"Should be 6\")\n",
    "\n",
    "#if __name__ == \"__main_\":\n",
    "    #unittest.main()"
   ]
  },
  {
   "cell_type": "code",
   "execution_count": 76,
   "id": "669eb738-788a-4f1f-8239-08f021a89c72",
   "metadata": {},
   "outputs": [],
   "source": [
    "# Ran this and got this was the response which was the expected response.\n",
    "\n",
    "#$ py test_sum_unittest.py\n",
    "#.F\n",
    "#======================================================================\n",
    "#FAIL: test_sum_tuple (__main__.TestSum)\n",
    "#----------------------------------------------------------------------\n",
    "#Traceback (most recent call last):\n",
    "#  File \"test_sum_unittest.py\", line 9, in test_sum_tuple\n",
    "#    self.assertEqual(sum((1, 2, 2)), 6, \"Should be 6\")\n",
    "#AssertionError: Should be 6\n",
    "\n",
    "#----------------------------------------------------------------------\n",
    "#Ran 2 tests in 0.001s\n",
    "\n",
    "#FAILED (failures=1)"
   ]
  },
  {
   "cell_type": "code",
   "execution_count": 77,
   "id": "cd5d0655-4537-4123-92a5-c4f8a20305db",
   "metadata": {},
   "outputs": [
    {
     "name": "stdout",
     "output_type": "stream",
     "text": [
      "Defaulting to user installation because normal site-packages is not writeable\n",
      "Looking in links: /usr/share/pip-wheels\n",
      "Requirement already satisfied: nose2 in ./.local/lib/python3.10/site-packages (0.15.1)\n",
      "Note: you may need to restart the kernel to use updated packages.\n"
     ]
    }
   ],
   "source": [
    "pip install nose2"
   ]
  },
  {
   "cell_type": "code",
   "execution_count": 78,
   "id": "abdba189-961c-4c99-8290-5bdd9277481e",
   "metadata": {},
   "outputs": [
    {
     "name": "stdout",
     "output_type": "stream",
     "text": [
      ".F.F.\n",
      "======================================================================\n",
      "FAIL: test_sum_tuple (test_sum_unittest.TestSum)\n",
      "----------------------------------------------------------------------\n",
      "Traceback (most recent call last):\n",
      "  File \"/home/7b8fccfc-c478-453b-89cd-057806e404fd/test_sum_unittest.py\", line 11, in test_sum_tuple\n",
      "    self.assertEqual(sum((1, 2, 2)), 6, \"Should be 6\")\n",
      "AssertionError: 5 != 6 : Should be 6\n",
      "\n",
      "======================================================================\n",
      "FAIL: test_sum_2.test_sum_tuple\n",
      "----------------------------------------------------------------------\n",
      "Traceback (most recent call last):\n",
      "  File \"/home/7b8fccfc-c478-453b-89cd-057806e404fd/test_sum_2.py\", line 6, in test_sum_tuple\n",
      "    assert sum((1, 2, 2)) == 6, \"Should be 6\"\n",
      "AssertionError: Should be 6\n",
      "\n",
      "----------------------------------------------------------------------\n",
      "Ran 5 tests in 0.000s\n",
      "\n",
      "FAILED (failures=2)\n"
     ]
    }
   ],
   "source": [
    "!python -m nose2"
   ]
  },
  {
   "cell_type": "code",
   "execution_count": 79,
   "id": "8345261a-b8bb-4291-8cdf-5369d178542f",
   "metadata": {},
   "outputs": [],
   "source": [
    "def test_sum():\n",
    "    assert sum([1, 2, 3]) == 6, \"Should be 6\"\n",
    "    \n",
    "def test_sum_tuple():\n",
    "    assert sum((1, 2, 2)) == 6, \"Should be 6\""
   ]
  },
  {
   "cell_type": "code",
   "execution_count": 80,
   "id": "eef4c189-0651-4eba-82d9-5ab59f76677c",
   "metadata": {},
   "outputs": [],
   "source": [
    "import os\n",
    "\n",
    "# Create folder structure\n",
    "os.makedirs(\"project/my_sum\", exist_ok=True)\n",
    "os.makedirs(\"project/tests\", exist_ok=True)"
   ]
  },
  {
   "cell_type": "code",
   "execution_count": 81,
   "id": "a759613f-5aef-4df3-9de0-337a78e003bf",
   "metadata": {},
   "outputs": [],
   "source": [
    "with open(\"project/my_sum/__init__.py\", \"w\") as f:\n",
    "    f.write(\"\"\"\\\n",
    "def sum(arg):\n",
    "    total = 0\n",
    "    for val in arg:\n",
    "        total += val\n",
    "    return total\n",
    "\"\"\")"
   ]
  },
  {
   "cell_type": "code",
   "execution_count": 82,
   "id": "9d4a578b-ec36-47ab-a706-dc037e855d0c",
   "metadata": {},
   "outputs": [],
   "source": [
    "with open(\"project/tests/test_my_sum.py\", \"w\") as f:\n",
    "    f.write(\"\"\"\\\n",
    "import sys, os\n",
    "import unittest\n",
    "\n",
    "# Make sure parent directory (project/) is on sys.path\n",
    "sys.path.insert(0, os.path.abspath(os.path.join(os.path.dirname(__file__), \"..\")))\n",
    "\n",
    "from my_sum import sum\n",
    "\n",
    "\n",
    "class TestSum(unittest.TestCase):\n",
    "    def test_list_int(self):\n",
    "        \\\"\"\"Test that it can sum a list of integers\\\"\"\"\n",
    "        data = [1, 2, 3]\n",
    "        result = sum(data)\n",
    "        self.assertEqual(result, 6)\n",
    "\n",
    "\n",
    "if __name__ == \"__main__\":\n",
    "    unittest.main()\n",
    "\"\"\")"
   ]
  },
  {
   "cell_type": "code",
   "execution_count": 83,
   "id": "660ce9e3-13d3-46d5-a565-5fad6572cde0",
   "metadata": {},
   "outputs": [
    {
     "name": "stdout",
     "output_type": "stream",
     "text": [
      "test_list_int (test_my_sum.TestSum)\n",
      "Test that it can sum a list of integers ... ok\n",
      "\n",
      "----------------------------------------------------------------------\n",
      "Ran 1 test in 0.000s\n",
      "\n",
      "OK\n"
     ]
    }
   ],
   "source": [
    "!python -m unittest discover -s project/tests -v"
   ]
  },
  {
   "cell_type": "code",
   "execution_count": 84,
   "id": "cffe1508-77d8-4df6-bf12-5b6f6f451f6c",
   "metadata": {},
   "outputs": [],
   "source": [
    "from fractions import Fraction\n",
    "import sys, os\n",
    "\n",
    "# Ensure the parent folder \"project\" is on sys.path so we can import my_sum\n",
    "sys.path.insert(0, os.path.abspath(\"project\"))"
   ]
  },
  {
   "cell_type": "code",
   "execution_count": 85,
   "id": "cb6e5c58-5fbc-476f-a469-1d9217a0ffb7",
   "metadata": {},
   "outputs": [
    {
     "name": "stderr",
     "output_type": "stream",
     "text": [
      "test_list_fraction (__main__.TestSum)\n",
      "Test that it can sum a list of fractions ... FAIL\n",
      "test_list_int (__main__.TestSum)\n",
      "Test that it can sum a list of integers ... ok\n",
      "\n",
      "======================================================================\n",
      "FAIL: test_list_fraction (__main__.TestSum)\n",
      "Test that it can sum a list of fractions\n",
      "----------------------------------------------------------------------\n",
      "Traceback (most recent call last):\n",
      "  File \"/tmp/ipykernel_465/2665659884.py\", line 19, in test_list_fraction\n",
      "    self.assertEqual(result, 1)  # intentionally wrong to show failure\n",
      "AssertionError: Fraction(9, 10) != 1\n",
      "\n",
      "----------------------------------------------------------------------\n",
      "Ran 2 tests in 0.003s\n",
      "\n",
      "FAILED (failures=1)\n"
     ]
    },
    {
     "data": {
      "text/plain": [
       "<unittest.main.TestProgram at 0x77056f31b2b0>"
      ]
     },
     "execution_count": 85,
     "metadata": {},
     "output_type": "execute_result"
    }
   ],
   "source": [
    "import unittest\n",
    "from my_sum import sum\n",
    "\n",
    "class TestSum(unittest.TestCase):\n",
    "    def test_list_int(self):\n",
    "        \"\"\"\n",
    "        Test that it can sum a list of integers\n",
    "        \"\"\"\n",
    "        data = [1, 2, 3]\n",
    "        result = sum(data)\n",
    "        self.assertEqual(result, 6)\n",
    "\n",
    "    def test_list_fraction(self):\n",
    "        \"\"\"\n",
    "        Test that it can sum a list of fractions\n",
    "        \"\"\"\n",
    "        data = [Fraction(1, 4), Fraction(1, 4), Fraction(2, 5)]\n",
    "        result = sum(data)\n",
    "        self.assertEqual(result, 1)  # intentionally wrong to show failure\n",
    "\n",
    "# Run the tests inside the notebook\n",
    "unittest.main(argv=[''], verbosity=2, exit=False)"
   ]
  },
  {
   "cell_type": "code",
   "execution_count": 86,
   "id": "650720c5-437a-444d-9212-3c4c16ba0bd7",
   "metadata": {},
   "outputs": [],
   "source": [
    "# this is my output from running it in VSCode\n",
    "\n",
    "#======================================================================\n",
    "#FAIL: test_list_fraction (test.TestSum)\n",
    "#----------------------------------------------------------------------\n",
    "#Traceback (most recent call last):\n",
    "#  File \"test.py\", line 21, in test_list_fraction\n",
    "#    self.assertEqual(result, 1)\n",
    "#AssertionError: Fraction(9, 10) != 1\n",
    "#\n",
    "#----------------------------------------------------------------------\n",
    "#Ran 2 tests in 0.001s\n",
    "\n",
    "#FAILED (failures=1)\n",
    "\n"
   ]
  },
  {
   "cell_type": "code",
   "execution_count": 87,
   "id": "e99c0aca-677a-4891-b363-7dab926cc8b5",
   "metadata": {},
   "outputs": [],
   "source": [
    "# At the end of the notebook, describe the test results in your own words.  What do the test results mean\n",
    "\n",
    "# The first part of the test results are just a summary, showing us that the test_list_fraction program failed.\n",
    "# Following that, the Traceback section shows us where the code failed, it gives very specific details, like that it was line 21 of file \"test.py\" that failed,\n",
    "# which is very useful for going back and easily fixing small logic or type errors.\n",
    "# Lastly it shows that it tried the test twice within 0.001 seconds and the number of failures which was 1."
   ]
  }
 ],
 "metadata": {
  "kernelspec": {
   "display_name": "anaconda-2024.02-py310",
   "language": "python",
   "name": "conda-env-anaconda-2024.02-py310-py"
  },
  "language_info": {
   "codemirror_mode": {
    "name": "ipython",
    "version": 3
   },
   "file_extension": ".py",
   "mimetype": "text/x-python",
   "name": "python",
   "nbconvert_exporter": "python",
   "pygments_lexer": "ipython3",
   "version": "3.10.14"
  }
 },
 "nbformat": 4,
 "nbformat_minor": 5
}
