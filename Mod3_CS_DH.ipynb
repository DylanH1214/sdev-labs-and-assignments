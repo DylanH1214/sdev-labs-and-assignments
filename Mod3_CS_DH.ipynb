{
 "cells": [
  {
   "cell_type": "code",
   "execution_count": 1,
   "id": "ab74d224-31ce-4f8d-9b6d-51362e817b37",
   "metadata": {},
   "outputs": [
    {
     "name": "stdin",
     "output_type": "stream",
     "text": [
      "Enter the vehicle type (car, truck, plane, boat, broomstick, etc.):  car\n",
      "Enter the year:  2019\n",
      "Enter the make:  Honda\n",
      "Enter the model:  Civic\n",
      "Enter the number of doors (2 or 4):  4\n",
      "Enter the type of roof (solid or sun roof):  solid\n"
     ]
    },
    {
     "name": "stdout",
     "output_type": "stream",
     "text": [
      "\n",
      "--- Vehicle Information ---\n",
      "Vehicle type: car\n",
      "Year: 2019\n",
      "Make: Honda\n",
      "Model: Civic\n",
      "Number of doors: 4\n",
      "Type of roof: solid\n"
     ]
    }
   ],
   "source": [
    "# Dylan Hart\n",
    "# Mod3_CS_DH\n",
    "# This application will take user inputted information about a vehicle and then display that information back to them in an organized easy to read fashion.\n",
    "\n",
    "\n",
    "\n",
    "\n",
    "\n",
    "# The Superclass\n",
    "class Vehicle:\n",
    "    def __init__(self, vehicle_type, year, make, model):\n",
    "        self.vehicle_type = vehicle_type\n",
    "        self.year = year\n",
    "        self.make = make\n",
    "        self.model = model\n",
    "\n",
    "\n",
    "# Subclass for cars\n",
    "class Automobile(Vehicle):\n",
    "    def __init__(self, vehicle_type, year, make, model, doors, roof):\n",
    "        super().__init__(vehicle_type, year, make, model)  # inherit from Vehicle\n",
    "        self.doors = doors\n",
    "        self.roof = roof\n",
    "\n",
    "\n",
    "def main():\n",
    "    # User provides vehicle type\n",
    "    vehicle_type = input(\"Enter the vehicle type (car, truck, plane, boat, broomstick, etc.): \").lower()\n",
    "\n",
    "    # General info for all vehicles\n",
    "    year = input(\"Enter the year: \")\n",
    "    make = input(\"Enter the make: \")\n",
    "    model = input(\"Enter the model: \")\n",
    "\n",
    "    if vehicle_type == \"car\":\n",
    "        # Specific details for cars\n",
    "        doors = input(\"Enter the number of doors (2 or 4): \")\n",
    "        roof = input(\"Enter the type of roof (solid or sun roof): \")\n",
    "\n",
    "        # Create Automobile object\n",
    "        vehicle = Automobile(vehicle_type, year, make, model, doors, roof)\n",
    "\n",
    "        # Display info for cars\n",
    "        print(\"\\n--- Vehicle Information ---\")\n",
    "        print(f\"Vehicle type: {vehicle.vehicle_type}\")\n",
    "        print(f\"Year: {vehicle.year}\")\n",
    "        print(f\"Make: {vehicle.make}\")\n",
    "        print(f\"Model: {vehicle.model}\")\n",
    "        print(f\"Number of doors: {vehicle.doors}\")\n",
    "        print(f\"Type of roof: {vehicle.roof}\")\n",
    "\n",
    "    else:\n",
    "        # Create generic Vehicle object\n",
    "        vehicle = Vehicle(vehicle_type, year, make, model)\n",
    "\n",
    "        # Display info for other vehicles\n",
    "        print(\"\\n--- Vehicle Information ---\")\n",
    "        print(f\"Vehicle type: {vehicle.vehicle_type}\")\n",
    "        print(f\"Year: {vehicle.year}\")\n",
    "        print(f\"Make: {vehicle.make}\")\n",
    "        print(f\"Model: {vehicle.model}\")\n",
    "\n",
    "\n",
    "if __name__ == \"__main__\":\n",
    "    main()"
   ]
  },
  {
   "cell_type": "code",
   "execution_count": null,
   "id": "2d897b4a-402b-4535-9060-c5a3ca61fab3",
   "metadata": {},
   "outputs": [],
   "source": []
  }
 ],
 "metadata": {
  "kernelspec": {
   "display_name": "anaconda-2024.02-py310",
   "language": "python",
   "name": "conda-env-anaconda-2024.02-py310-py"
  },
  "language_info": {
   "codemirror_mode": {
    "name": "ipython",
    "version": 3
   },
   "file_extension": ".py",
   "mimetype": "text/x-python",
   "name": "python",
   "nbconvert_exporter": "python",
   "pygments_lexer": "ipython3",
   "version": "3.10.14"
  }
 },
 "nbformat": 4,
 "nbformat_minor": 5
}
