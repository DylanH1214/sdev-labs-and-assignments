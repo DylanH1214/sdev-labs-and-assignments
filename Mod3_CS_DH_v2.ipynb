{
 "cells": [
  {
   "cell_type": "code",
   "execution_count": 6,
   "id": "ab74d224-31ce-4f8d-9b6d-51362e817b37",
   "metadata": {},
   "outputs": [
    {
     "name": "stdin",
     "output_type": "stream",
     "text": [
      "Enter the vehicle type (car, truck, plane, boat, broomstick, etc.):  car\n",
      "Enter the year (e.g., 2022):  nineteen ninety nine\n"
     ]
    },
    {
     "name": "stdout",
     "output_type": "stream",
     "text": [
      "Invalid year. Please enter a 4-digit number.\n"
     ]
    },
    {
     "name": "stdin",
     "output_type": "stream",
     "text": [
      "Enter the year (e.g., 2022):  1998\n",
      "Enter the make:  Toyota\n",
      "Enter the model:  Camry\n",
      "Enter the number of doors (2 or 4):  8\n"
     ]
    },
    {
     "name": "stdout",
     "output_type": "stream",
     "text": [
      "Invalid input. Please enter 2 or 4.\n"
     ]
    },
    {
     "name": "stdin",
     "output_type": "stream",
     "text": [
      "Enter the number of doors (2 or 4):  4\n",
      "Enter the type of roof (solid or sun roof):  None\n"
     ]
    },
    {
     "name": "stdout",
     "output_type": "stream",
     "text": [
      "Invalid input. Please type either 'solid' or 'sun roof'.\n"
     ]
    },
    {
     "name": "stdin",
     "output_type": "stream",
     "text": [
      "Enter the type of roof (solid or sun roof):  Sun roof\n"
     ]
    },
    {
     "name": "stdout",
     "output_type": "stream",
     "text": [
      "\n",
      "--- Vehicle Information ---\n",
      "Vehicle type: car\n",
      "Year: 1998\n",
      "Make: Toyota\n",
      "Model: Camry\n",
      "Number of doors: 4\n",
      "Type of roof: sun roof\n"
     ]
    }
   ],
   "source": [
    "# Dylan Hart\n",
    "# Mod3_CS_DH_v2\n",
    "# This application will take user inputted information about a vehicle and then display that information back to them in an organized easy to read fashion.\n",
    "# Based on feedback, this is the revised version of the case study submission.\n",
    "# Changed the automobile subclass to better match application requirements and added in input validation to ensure the fields are properly answered.\n",
    "\n",
    "\n",
    "\n",
    "\n",
    "\n",
    "# The Superclass\n",
    "class Vehicle:\n",
    "    def __init__(self, vehicle_type):\n",
    "        self.vehicle_type = vehicle_type\n",
    "\n",
    "\n",
    "# Subclass for cars\n",
    "class Automobile(Vehicle):\n",
    "    def __init__(self, vehicle_type, year, make, model, doors, roof):\n",
    "        super().__init__(vehicle_type)  # inherit only vehicle_type\n",
    "        self.year = year\n",
    "        self.make = make\n",
    "        self.model = model\n",
    "        self.doors = doors\n",
    "        self.roof = roof\n",
    "\n",
    "# User provides a 4 digit number for the year of the car\n",
    "def get_valid_year():\n",
    "    \"\"\"Ensure year is a 4-digit number.\"\"\"\n",
    "    while True:\n",
    "        year = input(\"Enter the year (e.g., 2022): \")\n",
    "        if year.isdigit() and len(year) == 4:\n",
    "            return year\n",
    "        print(\"Invalid year. Please enter a 4-digit number.\")\n",
    "\n",
    "# User is given the option between 2 or 4 doors.\n",
    "def get_valid_doors():\n",
    "    \"\"\"Ensure doors is either 2 or 4.\"\"\"\n",
    "    while True:\n",
    "        doors = input(\"Enter the number of doors (2 or 4): \")\n",
    "        if doors in (\"2\", \"4\"):\n",
    "            return doors\n",
    "        print(\"Invalid input. Please enter 2 or 4.\")\n",
    "\n",
    "# User is given the option of Solid or Sun Roof\n",
    "def get_valid_roof():\n",
    "    \"\"\"Ensure roof type is either 'solid' or 'sun roof'.\"\"\"\n",
    "    while True:\n",
    "        roof = input(\"Enter the type of roof (solid or sun roof): \").lower()\n",
    "        if roof in (\"solid\", \"sun roof\"):\n",
    "            return roof\n",
    "        print(\"Invalid input. Please type either 'solid' or 'sun roof'.\")\n",
    "\n",
    "\n",
    "def main():\n",
    "    # User provides vehicle type\n",
    "    vehicle_type = input(\"Enter the vehicle type (car, truck, plane, boat, broomstick, etc.): \").lower()\n",
    "\n",
    "    # Collect general info (all vehicles need year, make, model)\n",
    "    year = get_valid_year()\n",
    "    make = input(\"Enter the make: \")\n",
    "    model = input(\"Enter the model: \")\n",
    "\n",
    "    if vehicle_type == \"car\":\n",
    "        # Specific details for cars\n",
    "        doors = get_valid_doors()\n",
    "        roof = get_valid_roof()\n",
    "\n",
    "        # Create Automobile object\n",
    "        vehicle = Automobile(vehicle_type, year, make, model, doors, roof)\n",
    "\n",
    "    else:\n",
    "        # For non-car vehicles, just attach general info dynamically\n",
    "        vehicle = Vehicle(vehicle_type)\n",
    "        vehicle.year = year\n",
    "        vehicle.make = make\n",
    "        vehicle.model = model\n",
    "\n",
    "    # --- Print Vehicle Information ---\n",
    "    print(\"\\n--- Vehicle Information ---\")\n",
    "    print(f\"Vehicle type: {vehicle.vehicle_type}\")\n",
    "    print(f\"Year: {vehicle.year}\")\n",
    "    print(f\"Make: {vehicle.make}\")\n",
    "    print(f\"Model: {vehicle.model}\")\n",
    "\n",
    "    # Print car-specific details only if applicable\n",
    "    if isinstance(vehicle, Automobile):\n",
    "        print(f\"Number of doors: {vehicle.doors}\")\n",
    "        print(f\"Type of roof: {vehicle.roof}\")\n",
    "\n",
    "\n",
    "if __name__ == \"__main__\":\n",
    "    main()\n",
    "    "
   ]
  },
  {
   "cell_type": "code",
   "execution_count": null,
   "id": "2d897b4a-402b-4535-9060-c5a3ca61fab3",
   "metadata": {},
   "outputs": [],
   "source": []
  }
 ],
 "metadata": {
  "kernelspec": {
   "display_name": "anaconda-2024.02-py310",
   "language": "python",
   "name": "conda-env-anaconda-2024.02-py310-py"
  },
  "language_info": {
   "codemirror_mode": {
    "name": "ipython",
    "version": 3
   },
   "file_extension": ".py",
   "mimetype": "text/x-python",
   "name": "python",
   "nbconvert_exporter": "python",
   "pygments_lexer": "ipython3",
   "version": "3.10.14"
  }
 },
 "nbformat": 4,
 "nbformat_minor": 5
}
