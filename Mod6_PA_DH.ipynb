{
 "cells": [
  {
   "cell_type": "code",
   "execution_count": 36,
   "id": "1b0eb0e5-a859-4a31-b71f-e8d35cd587cd",
   "metadata": {},
   "outputs": [],
   "source": [
    "# 13.1 Write the current date as a string to the text file today.txt.\n",
    "\n",
    "from datetime import date\n",
    "\n",
    "now = date.today()\n",
    "now_str = now.isoformat()\n",
    "\n",
    "with open(file_path, \"wt\") as output:\n",
    "    print(now_str, file=output)"
   ]
  },
  {
   "cell_type": "code",
   "execution_count": 37,
   "id": "c49239fc-aef2-404f-ba19-25209ec445d3",
   "metadata": {},
   "outputs": [
    {
     "data": {
      "text/plain": [
       "'2025-10-01\\n'"
      ]
     },
     "execution_count": 37,
     "metadata": {},
     "output_type": "execute_result"
    }
   ],
   "source": [
    "# 13.2 Read the text file today.txt into the string today_string.\n",
    "\n",
    "with open('today.txt', 'rt') as input:\n",
    "    today_string = input.read()\n",
    "\n",
    "today_string"
   ]
  },
  {
   "cell_type": "code",
   "execution_count": 38,
   "id": "8a096aaf-2196-49a6-ab2c-4c6a803569f3",
   "metadata": {},
   "outputs": [
    {
     "data": {
      "text/plain": [
       "datetime.datetime(2025, 10, 1, 0, 0)"
      ]
     },
     "execution_count": 38,
     "metadata": {},
     "output_type": "execute_result"
    }
   ],
   "source": [
    "# 13.3 Parse the date from today_string.\n",
    "\n",
    "from datetime import datetime\n",
    "\n",
    "fmt = \"%Y-%m-%d\\n\"\n",
    "datetime.strptime(today_string, fmt)"
   ]
  },
  {
   "cell_type": "code",
   "execution_count": 43,
   "id": "ad6ce1b4-1480-41a3-abd7-91d7fb7dcde3",
   "metadata": {},
   "outputs": [
    {
     "name": "stdout",
     "output_type": "stream",
     "text": [
      "wait 0.15983805912354876 seconds, time is 2025-10-01 17:57:05.835261\n",
      "wait 0.37347730885556674 seconds, time is 2025-10-01 17:57:06.073437\n",
      "wait 0.8022914996440185 seconds, time is 2025-10-01 17:57:06.517923\n"
     ]
    }
   ],
   "source": [
    "# 15.1 Use multiprocessing to create three separate processes. Make each one wait a random number of seconds between zero and one, print the current time, and then exit.\n",
    "\n",
    "import multiprocessing\n",
    "\n",
    "def now(seconds):\n",
    "    from datetime import datetime\n",
    "    from time import sleep\n",
    "    sleep(seconds)\n",
    "    print('wait', seconds, 'seconds, time is', datetime.utcnow())\n",
    "\n",
    "if __name__ == '__main__':\n",
    "    import random\n",
    "    for n in range(3):\n",
    "        seconds = random.random()\n",
    "        proc = multiprocessing.Process(target=now, args=(seconds,))\n",
    "        proc.start()"
   ]
  },
  {
   "cell_type": "code",
   "execution_count": null,
   "id": "3c8fa15f-1f56-4853-a894-ed2fcc6f13a8",
   "metadata": {},
   "outputs": [],
   "source": []
  }
 ],
 "metadata": {
  "kernelspec": {
   "display_name": "anaconda-2024.02-py310",
   "language": "python",
   "name": "conda-env-anaconda-2024.02-py310-py"
  },
  "language_info": {
   "codemirror_mode": {
    "name": "ipython",
    "version": 3
   },
   "file_extension": ".py",
   "mimetype": "text/x-python",
   "name": "python",
   "nbconvert_exporter": "python",
   "pygments_lexer": "ipython3",
   "version": "3.10.14"
  }
 },
 "nbformat": 4,
 "nbformat_minor": 5
}
